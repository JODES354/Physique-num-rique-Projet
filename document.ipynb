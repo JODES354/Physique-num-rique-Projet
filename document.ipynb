{
 "cells": [
  {
   "cell_type": "code",
   "execution_count": 1,
   "metadata": {},
   "outputs": [],
   "source": [
    "import numpy as np\n",
    "#import pyplot as plt\n",
    "import scipy.constants as const"
   ]
  },
  {
   "attachments": {},
   "cell_type": "markdown",
   "metadata": {},
   "source": [
    "Soit H l’Hamiltonien d’un oscillateur anharmonique\n",
    "\n",
    "\n",
    "$H = −\\frac{\\hbar^2}{2M} \\frac{d^2}{dx^2}+ V (x)$ $(4.6)$ \n",
    "\n",
    "\n",
    "où le potentiel anharmonique s’écrit \n",
    "\n",
    "\n",
    "$V(x) = \\frac{1}{2} M \\omega^2x^2 + \\alpha x^3 + \\beta x^4$. $(4.7)$ \\\\\n",
    "\n",
    "\n",
    "Au lieu de solutionner un système aux valeurs propres sur une base de\n",
    "fonctions, on discrétisera l’espace sur une grille unidimensionnelle formée\n",
    "de $N$ points ${x_j}$ telle que \n",
    "\n",
    "\n",
    "$x_1 = −R$ \n",
    "\n",
    "$x_2 = −R + h$ \n",
    "\n",
    "$... = ...$ \n",
    "\n",
    "$x_j = −R + (j − 1)h$ $(4.8)$ \n",
    "\n",
    "$... = ...$ \n",
    "\n",
    "$x_N = −R + (N − 1)h = +R$ \n",
    "\n",
    "\n",
    "avec $h = \\frac{2x}{(N − 1)}$ et $R$ choisi suffisamment grand pour que $\\psi_n(±R) ' 0$ où $H\\psi_n(x) = E_n \\psi_n(x)$."
   ]
  },
  {
   "attachments": {},
   "cell_type": "markdown",
   "metadata": {},
   "source": [
    "On commence par discrétisé l'opérateur différentielle sur la grille unidimensionelle.\n",
    "\n",
    "$\\frac{d^2f_i}{dx^2} \\approx \\frac{f_{i-1}-2f_i + f_{i+1}}{\\Delta x^2}$ \n",
    "\n",
    "On peut adapter l'équation ci-dessus pour l'ensemble de l'espace discrétisé en utilisant la matrice suivante :\n",
    "\n",
    "$\\begin{pmatrix}\n",
    "-2 & 1 & 0 & 0 & \\dot \\\\\n",
    "1 & -2 & 1 & \\dot & 0 \\\\\n",
    "0 & 1 & \\dot & 1 & 1 \\\\\n",
    "0 & \\dot & 1 & -2 & 1 \\\\\n",
    "\\dot & 0 & 1 & 1 & -2 \\\\\n",
    "\\end{pmatrix}$\n",
    "\n"
   ]
  },
  {
   "cell_type": "code",
   "execution_count": 2,
   "metadata": {},
   "outputs": [],
   "source": [
    "#définition de toutes les constantes utiles\n",
    "pi = const.pi\n",
    "R=10\n",
    "N=1000\n",
    "E = 1\n",
    "h = const.h\n",
    "hbar = const.hbar\n",
    "M = const.proton_mass\n",
    "alpha = 1\n",
    "beta = 1\n",
    "nu = E / h\n",
    "omega = 2*pi*nu"
   ]
  }
 ],
 "metadata": {
  "kernelspec": {
   "display_name": "Python 3",
   "language": "python",
   "name": "python3"
  },
  "language_info": {
   "codemirror_mode": {
    "name": "ipython",
    "version": 3
   },
   "file_extension": ".py",
   "mimetype": "text/x-python",
   "name": "python",
   "nbconvert_exporter": "python",
   "pygments_lexer": "ipython3",
   "version": "3.10.6"
  },
  "orig_nbformat": 4
 },
 "nbformat": 4,
 "nbformat_minor": 2
}
