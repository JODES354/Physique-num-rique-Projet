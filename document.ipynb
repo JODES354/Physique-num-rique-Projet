{
 "cells": [
  {
   "cell_type": "code",
   "execution_count": 110,
   "metadata": {},
   "outputs": [],
   "source": [
    "import numpy as np\n",
    "#import pyplot as plt\n",
    "import scipy.constants as const"
   ]
  },
  {
   "cell_type": "code",
   "execution_count": 111,
   "metadata": {},
   "outputs": [],
   "source": [
    "# définition de toutes les constantes utiles \n",
    "pi = const.pi\n",
    "R=10\n",
    "N=1000\n",
    "E = 1\n",
    "h = const.h\n",
    "hbar = const.hbar\n",
    "M = const.proton_mass\n",
    "alpha = 1\n",
    "beta = 1\n",
    "nu = E / h\n",
    "omega = 2*pi*nu"
   ]
  },
  {
   "attachments": {},
   "cell_type": "markdown",
   "metadata": {},
   "source": [
    "Soit H l’Hamiltonien d’un oscillateur anharmonique\n",
    "\n",
    "\n",
    "$H = −\\frac{\\hbar^2}{2M} \\frac{d^2}{dx^2}+ V (x)$ $(4.6)$ \n",
    "\n",
    "\n",
    "où le potentiel anharmonique s’écrit \n",
    "\n",
    "\n",
    "$V(x) = \\frac{1}{2} M \\omega^2x^2 + \\alpha x^3 + \\beta x^4$. $(4.7)$ \\\\\n",
    "\n",
    "\n",
    "Au lieu de solutionner un système aux valeurs propres sur une base de\n",
    "fonctions, on discrétisera l’espace sur une grille unidimensionnelle formée\n",
    "de $N$ points ${x_j}$ telle que \n",
    "\n",
    "\n",
    "$x_1 = −R$ \n",
    "\n",
    "$x_2 = −R + h$ \n",
    "\n",
    "$... = ...$ \n",
    "\n",
    "$x_j = −R + (j − 1)h$ $(4.8)$ \n",
    "\n",
    "$... = ...$ \n",
    "\n",
    "$x_N = −R + (N − 1)h = +R$ \n",
    "\n",
    "\n",
    "avec $h = \\frac{2x}{(N − 1)}$ et $R$ choisi suffisamment grand pour que $\\psi_n(±R) ' 0$ où $H\\psi_n(x) = E_n \\psi_n(x)$."
   ]
  },
  {
   "attachments": {},
   "cell_type": "markdown",
   "metadata": {},
   "source": [
    "On commence par discrétisé l'opérateur différentielle sur la grille unidimensionelle.\n",
    "\n",
    "$\\frac{d^2f_i}{dx^2} \\approx \\frac{f_{i-1}-2f_i + f_{i+1}}{\\Delta x^2}$ \n",
    "\n",
    "On peut adapter l'équation ci-dessus pour l'ensemble de l'espace discrétisé en utilisant la matrice suivante :\n",
    "\n",
    "$\\begin{pmatrix}\n",
    "-2 & 1 & 0 & 0 & \\dot \\\\\n",
    "1 & -2 & 1 & \\dot & 0 \\\\\n",
    "0 & 1 & \\dot & 1 & 1 \\\\\n",
    "0 & \\dot & 1 & -2 & 1 \\\\\n",
    "\\dot & 0 & 1 & 1 & -2 \\\\\n",
    "\\end{pmatrix}$\n",
    "\n"
   ]
  },
  {
   "cell_type": "code",
   "execution_count": 112,
   "metadata": {},
   "outputs": [],
   "source": [
    "def discrétise_espace(R, N):\n",
    "    return list(-R + (i-1) * (2*R)/(N-1) for i in range(1, N+1))"
   ]
  },
  {
   "cell_type": "code",
   "execution_count": 113,
   "metadata": {},
   "outputs": [],
   "source": [
    "def differentielle_discretiser(N):\n",
    "    D = np.zeros((N, N))\n",
    "    D[0, 0] = 2\n",
    "    D[N-1, N-1] = 2\n",
    "    D[0, 1] = -1\n",
    "    D[N-1, N-2] = -1\n",
    "\n",
    "    for i in range(1, N-1):\n",
    "        D[i, i-1] = -1\n",
    "        D[i, i+1] = -1\n",
    "        D[i, i] = 2\n",
    "        \n",
    "    return D"
   ]
  },
  {
   "cell_type": "code",
   "execution_count": 114,
   "metadata": {},
   "outputs": [],
   "source": [
    "def x_carré(R, N):\n",
    "    return np.array([element**2 for element in discrétise_espace(R, N)])\n",
    "\n",
    "def x_cube(R, N): \n",
    "    return np.array([element**3 for element in discrétise_espace(R, N)])\n",
    "\n",
    "def x_quatre(R, N): \n",
    "    return np.array([element**4 for element in discrétise_espace(R, N)])"
   ]
  },
  {
   "attachments": {},
   "cell_type": "markdown",
   "metadata": {},
   "source": [
    "Il y a une erreur avec la fonction V !"
   ]
  },
  {
   "cell_type": "code",
   "execution_count": 115,
   "metadata": {},
   "outputs": [],
   "source": [
    "def V(R, N, alpha, beta, M, omega):\n",
    "    return (1/2)*M*discrétise_espace(R, N)*omega**2 + alpha*x_cube(R, N) + beta*x_quatre(R, N)"
   ]
  },
  {
   "cell_type": "code",
   "execution_count": 116,
   "metadata": {},
   "outputs": [
    {
     "ename": "TypeError",
     "evalue": "can't multiply sequence by non-int of type 'float'",
     "output_type": "error",
     "traceback": [
      "\u001b[1;31m---------------------------------------------------------------------------\u001b[0m",
      "\u001b[1;31mTypeError\u001b[0m                                 Traceback (most recent call last)",
      "Cell \u001b[1;32mIn[116], line 1\u001b[0m\n\u001b[1;32m----> 1\u001b[0m \u001b[39mprint\u001b[39m(V(\u001b[39m7\u001b[39;49m, \u001b[39m15\u001b[39;49m, \u001b[39m0\u001b[39;49m, \u001b[39m0\u001b[39;49m, \u001b[39m1\u001b[39;49m, \u001b[39m1\u001b[39;49m))\n",
      "Cell \u001b[1;32mIn[115], line 2\u001b[0m, in \u001b[0;36mV\u001b[1;34m(R, N, alpha, beta, M, omega)\u001b[0m\n\u001b[0;32m      1\u001b[0m \u001b[39mdef\u001b[39;00m \u001b[39mV\u001b[39m(R, N, alpha, beta, M, omega):\n\u001b[1;32m----> 2\u001b[0m     \u001b[39mreturn\u001b[39;00m (\u001b[39m1\u001b[39;49m\u001b[39m/\u001b[39;49m\u001b[39m2\u001b[39;49m)\u001b[39m*\u001b[39;49mM\u001b[39m*\u001b[39;49mdiscrétise_espace(R, N)\u001b[39m*\u001b[39momega\u001b[39m*\u001b[39m\u001b[39m*\u001b[39m\u001b[39m2\u001b[39m \u001b[39m+\u001b[39m alpha\u001b[39m*\u001b[39mx_cube(R, N) \u001b[39m+\u001b[39m beta\u001b[39m*\u001b[39mx_quatre(R, N)\n",
      "\u001b[1;31mTypeError\u001b[0m: can't multiply sequence by non-int of type 'float'"
     ]
    }
   ],
   "source": [
    "print(V(7, 15, 0, 0, 1, 1))"
   ]
  },
  {
   "cell_type": "code",
   "execution_count": null,
   "metadata": {},
   "outputs": [],
   "source": [
    "def H(R, N, alpha, beta, M, omega):\n",
    "    return (hbar**2/(2*M))*differentielle_discretiser(N) + np.diag(V(R, N, alpha, beta, M, omega))"
   ]
  }
 ],
 "metadata": {
  "kernelspec": {
   "display_name": "Python 3",
   "language": "python",
   "name": "python3"
  },
  "language_info": {
   "codemirror_mode": {
    "name": "ipython",
    "version": 3
   },
   "file_extension": ".py",
   "mimetype": "text/x-python",
   "name": "python",
   "nbconvert_exporter": "python",
   "pygments_lexer": "ipython3",
   "version": "3.10.6"
  },
  "orig_nbformat": 4
 },
 "nbformat": 4,
 "nbformat_minor": 2
}
