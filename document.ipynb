{
 "cells": [
  {
   "cell_type": "code",
   "execution_count": 34,
   "metadata": {},
   "outputs": [],
   "source": [
    "import numpy as np\n",
    "import scipy.constants as const\n",
    "from functools import reduce\n",
    "import matplotlib.pyplot as plt"
   ]
  },
  {
   "cell_type": "code",
   "execution_count": 35,
   "metadata": {},
   "outputs": [],
   "source": [
    "# définition de toutes les constantes utiles \n",
    "pi = const.pi\n",
    "R=10\n",
    "N=1000\n",
    "E = 1e-19\n",
    "h = const.h\n",
    "hbar = const.hbar\n",
    "M = const.proton_mass\n",
    "alpha = 1\n",
    "beta = 1\n",
    "nu = E / h\n",
    "omega = 2*pi*nu"
   ]
  },
  {
   "attachments": {},
   "cell_type": "markdown",
   "metadata": {},
   "source": [
    "Soit H l’Hamiltonien d’un oscillateur anharmonique\n",
    "\n",
    "\n",
    "$H = −\\frac{\\hbar^2}{2M} \\frac{d^2}{dx^2}+ V (x)$ $(4.6)$ \n",
    "\n",
    "\n",
    "où le potentiel anharmonique s’écrit \n",
    "\n",
    "\n",
    "$V(x) = \\frac{1}{2} M \\omega^2x^2 + \\alpha x^3 + \\beta x^4$. $(4.7)$ \n",
    "\n",
    "\n",
    "Au lieu de solutionner un système aux valeurs propres sur une base de\n",
    "fonctions, on discrétisera l’espace sur une grille unidimensionnelle formée\n",
    "de $N$ points ${x_j}$ telle que \n",
    "\n",
    "\n",
    "$x_1 = −R$ \n",
    "\n",
    "$x_2 = −R + h$ \n",
    "\n",
    "$... = ...$ \n",
    "\n",
    "$x_j = −R + (j − 1)h$ $(4.8)$ \n",
    "\n",
    "$... = ...$ \n",
    "\n",
    "$x_N = −R + (N − 1)h = +R$ \n",
    "\n",
    "\n",
    "avec $h = \\frac{2x}{(N − 1)}$ et $R$ choisi suffisamment grand pour que $\\psi_n(±R) \\simeq 0$ où $H\\psi_n(x) = E_n \\psi_n(x)$."
   ]
  },
  {
   "attachments": {},
   "cell_type": "markdown",
   "metadata": {},
   "source": [
    "On commence par discrétisé l'opérateur différentielle sur la grille unidimensionelle.\n",
    "\n",
    "$\\frac{d^2f_i}{dx^2} \\simeq \\frac{f_{i-1}-2f_i + f_{i+1}}{(\\Delta x)^2} = \\frac{f_{i-1}-2f_i + f_{i+1}}{h^2}$ \n",
    "\n",
    "On peut adapter l'équation ci-dessus pour l'ensemble de l'espace discrétisé en utilisant la matrice suivante :\n",
    "\n",
    "$\\begin{pmatrix}\n",
    "-2 & 1 & 0 & 0 & \\dot \\\\\n",
    "1 & -2 & 1 & \\dot & 0 \\\\\n",
    "0 & 1 & \\dot & 1 & 1 \\\\\n",
    "0 & \\dot & 1 & -2 & 1 \\\\\n",
    "\\dot & 0 & 1 & 1 & -2 \\\\\n",
    "\\end{pmatrix}$\n",
    "\n"
   ]
  },
  {
   "attachments": {},
   "cell_type": "markdown",
   "metadata": {},
   "source": [
    "**Définition des fonctions**"
   ]
  },
  {
   "cell_type": "code",
   "execution_count": 36,
   "metadata": {},
   "outputs": [],
   "source": [
    "def discrétise_espace(R, N):\n",
    "    return list(-R + (i-1) * (2*R)/(N-1) for i in range(1, N+1))"
   ]
  },
  {
   "cell_type": "code",
   "execution_count": 37,
   "metadata": {},
   "outputs": [],
   "source": [
    "def differentielle_discretiser(N):\n",
    "    D = np.zeros((N, N))\n",
    "    D[0, 0] = 2\n",
    "    D[N-1, N-1] = 2\n",
    "    D[0, 1] = -1\n",
    "    D[N-1, N-2] = -1\n",
    "\n",
    "    for i in range(1, N-1):\n",
    "        D[i, i-1] = -1\n",
    "        D[i, i+1] = -1\n",
    "        D[i, i] = 2\n",
    "        \n",
    "    return D"
   ]
  },
  {
   "cell_type": "code",
   "execution_count": 38,
   "metadata": {},
   "outputs": [],
   "source": [
    "def x_carré(R, N):\n",
    "    return np.array([element**2 for element in discrétise_espace(R, N)])\n",
    "\n",
    "def x_cube(R, N): \n",
    "    return np.array([element**3 for element in discrétise_espace(R, N)])\n",
    "\n",
    "def x_quatre(R, N): \n",
    "    return np.array([element**4 for element in discrétise_espace(R, N)])"
   ]
  },
  {
   "cell_type": "code",
   "execution_count": 39,
   "metadata": {},
   "outputs": [],
   "source": [
    "# calcul le potentielle (en matrine 1 x N)\n",
    "\n",
    "def V(R, N, alpha, beta, M, omega): \n",
    "    return (1/2)*M*x_carré(R, N)*omega**2 + alpha*x_cube(R, N) + beta*x_quatre(R, N)"
   ]
  },
  {
   "cell_type": "code",
   "execution_count": 40,
   "metadata": {},
   "outputs": [],
   "source": [
    "# calcul la matrice N x N de l'hamiltonien \n",
    "\n",
    "def H(R, N, alpha, beta, M, omega): \n",
    "    return (hbar**2/(2*M))*differentielle_discretiser(N)/ (((2*R)/(N-1))**2) + np.diag(V(R, N, alpha, beta, M, omega))"
   ]
  },
  {
   "cell_type": "code",
   "execution_count": 41,
   "metadata": {},
   "outputs": [],
   "source": [
    "# détermine la matrice orthogonale Q associé à la matrice A\n",
    "\n",
    "def calcul_Q(A):\n",
    "    k = len(A)\n",
    "    Q = np.zeros((k, k))\n",
    "\n",
    "    for i in range(0, k):\n",
    "        Q[:, i] = A[:,i]\n",
    "\n",
    "        for j in range(1, i+1):\n",
    "            Q[:, i] -= (A[:, i] @ Q[:, j-1]) * Q[:, j-1]\n",
    "\n",
    "        Q[:, i] = Q[:, i] / np.linalg.norm(Q[:, i]) \n",
    "\n",
    "    return Q"
   ]
  },
  {
   "cell_type": "code",
   "execution_count": 42,
   "metadata": {},
   "outputs": [],
   "source": [
    "#  détermine la matrice triangulaire supérieur R\n",
    "\n",
    "def methode_QR(A):\n",
    "    Q = calcul_Q(A)\n",
    "    return Q, np.transpose(Q) @ A"
   ]
  },
  {
   "cell_type": "code",
   "execution_count": 43,
   "metadata": {},
   "outputs": [],
   "source": [
    "# calcul les valeurs et les vecteurs propres de la matrice A\n",
    "\n",
    "def valeur_vecteur_propre_QR(A, epsilon):\n",
    "    Q, R = methode_QR(A)\n",
    "    A = np.transpose(Q) @ A @ Q\n",
    "    V = Q\n",
    "\n",
    "    def reducteur(a, b):\n",
    "        if abs(a) < epsilon and abs(b) < epsilon:\n",
    "            return False\n",
    "        \n",
    "        return True\n",
    "\n",
    "    while reduce(reducteur, list(A[i, j] for i in range(len(A)) for j in range(len(A)) if i != j)): # si tout les élément non diagaunaux sont inférieur à epsilon la boucle s'arréte\n",
    "        Q, R = methode_QR(A)\n",
    "        A = np.transpose(Q) @ A @ Q\n",
    "        V = V @ Q\n",
    "\n",
    "    return A, V"
   ]
  },
  {
   "cell_type": "code",
   "execution_count": 44,
   "metadata": {},
   "outputs": [
    {
     "data": {
      "image/png": "[encoded data removed]",
      "text/plain": [
       "<Figure size 640x480 with 1 Axes>"
      ]
     },
     "metadata": {},
     "output_type": "display_data"
    },
    {
     "name": "stdout",
     "output_type": "stream",
     "text": [
      "[[ 7.52261879e-18 -3.32801264e-22  7.26045345e-38  3.62345919e-38\n",
      "   2.85871941e-41]\n",
      " [-3.32801264e-22  1.88264996e-18 -2.09972194e-24 -3.98828132e-35\n",
      "  -3.14227061e-38]\n",
      " [ 7.25180749e-38 -2.09972194e-24  3.79933542e-19 -7.52953555e-19\n",
      "   2.94906486e-38]\n",
      " [ 3.62690908e-38 -3.98756302e-35 -7.52953555e-19  1.50538006e-18\n",
      "  -5.94323625e-21]\n",
      " [ 2.85448504e-41 -3.14506177e-38  6.37777596e-38 -5.94323625e-21\n",
      "   7.52261286e-18]]\n",
      "[ 0.00000000e+00  0.00000000e+00  0.00000000e+00 -7.90049216e-04\n",
      "  9.99999688e-01]\n",
      "-7.529535546501543e-19\n",
      "5.0000000000000005e-20\n"
     ]
    }
   ],
   "source": [
    "# définition des constantes\n",
    "R = 1e-10\n",
    "N = 5\n",
    "alpha = 0 \n",
    "beta = 0\n",
    "x = discrétise_espace(R, N)\n",
    "A, V = valeur_vecteur_propre_QR(H(R, N, alpha, beta, M, omega), 10**-16)\n",
    "\n",
    "# affichage du graphique\n",
    "\n",
    "plt.scatter(x, V[:][4]/np.linalg.norm(V[:][4]), color='b', label='y_1', s=10)\n",
    "plt.xlabel('x (en m) ')\n",
    "plt.ylabel('y')\n",
    "plt.axis([-1e-10, 1e-10, -1, 1])\n",
    "plt.title(f'Fonction d\\'onde d\\'énergie E = {A[0][0]:0.1f} J')\n",
    "plt.legend()\n",
    "plt.grid(True)\n",
    "plt.show()\n",
    "print(A)\n",
    "print(V[:][4])\n",
    "print(np.amin(A))\n",
    "print(hbar*omega/2)"
   ]
  }
 ],
 "metadata": {
  "kernelspec": {
   "display_name": "Python 3",
   "language": "python",
   "name": "python3"
  },
  "language_info": {
   "codemirror_mode": {
    "name": "ipython",
    "version": 3
   },
   "file_extension": ".py",
   "mimetype": "text/x-python",
   "name": "python",
   "nbconvert_exporter": "python",
   "pygments_lexer": "ipython3",
   "version": "3.10.10"
  },
  "orig_nbformat": 4
 },
 "nbformat": 4,
 "nbformat_minor": 2
}
